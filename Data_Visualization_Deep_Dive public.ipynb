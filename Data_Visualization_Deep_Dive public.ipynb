{
 "cells": [
  {
   "cell_type": "markdown",
   "id": "183e5d44",
   "metadata": {},
   "source": [
    "# Data Visualization Deep Dive"
   ]
  },
  {
   "cell_type": "markdown",
   "id": "c6caef42",
   "metadata": {},
   "source": [
    "If you don't have pandas, matplotlib, or numpy installed, remove the # below and run the cell."
   ]
  },
  {
   "cell_type": "code",
   "execution_count": 1,
   "id": "f86786d4",
   "metadata": {},
   "outputs": [
    {
     "name": "stdout",
     "output_type": "stream",
     "text": [
      "Requirement already satisfied: pandas in c:\\users\\khush\\anaconda3\\lib\\site-packages (2.2.3)\n",
      "Requirement already satisfied: numpy>=1.26.0 in c:\\users\\khush\\anaconda3\\lib\\site-packages (from pandas) (2.1.3)\n",
      "Requirement already satisfied: python-dateutil>=2.8.2 in c:\\users\\khush\\appdata\\roaming\\python\\python313\\site-packages (from pandas) (2.9.0.post0)\n",
      "Requirement already satisfied: pytz>=2020.1 in c:\\users\\khush\\anaconda3\\lib\\site-packages (from pandas) (2024.1)\n",
      "Requirement already satisfied: tzdata>=2022.7 in c:\\users\\khush\\anaconda3\\lib\\site-packages (from pandas) (2025.2)\n",
      "Requirement already satisfied: six>=1.5 in c:\\users\\khush\\appdata\\roaming\\python\\python313\\site-packages (from python-dateutil>=2.8.2->pandas) (1.17.0)\n",
      "Requirement already satisfied: matplotlib in c:\\users\\khush\\anaconda3\\lib\\site-packages (3.10.0)\n",
      "Requirement already satisfied: contourpy>=1.0.1 in c:\\users\\khush\\anaconda3\\lib\\site-packages (from matplotlib) (1.3.1)\n",
      "Requirement already satisfied: cycler>=0.10 in c:\\users\\khush\\anaconda3\\lib\\site-packages (from matplotlib) (0.11.0)\n",
      "Requirement already satisfied: fonttools>=4.22.0 in c:\\users\\khush\\anaconda3\\lib\\site-packages (from matplotlib) (4.55.3)\n",
      "Requirement already satisfied: kiwisolver>=1.3.1 in c:\\users\\khush\\anaconda3\\lib\\site-packages (from matplotlib) (1.4.8)\n",
      "Requirement already satisfied: numpy>=1.23 in c:\\users\\khush\\anaconda3\\lib\\site-packages (from matplotlib) (2.1.3)\n",
      "Requirement already satisfied: packaging>=20.0 in c:\\users\\khush\\appdata\\roaming\\python\\python313\\site-packages (from matplotlib) (25.0)\n",
      "Requirement already satisfied: pillow>=8 in c:\\users\\khush\\anaconda3\\lib\\site-packages (from matplotlib) (11.1.0)\n",
      "Requirement already satisfied: pyparsing>=2.3.1 in c:\\users\\khush\\anaconda3\\lib\\site-packages (from matplotlib) (3.2.0)\n",
      "Requirement already satisfied: python-dateutil>=2.7 in c:\\users\\khush\\appdata\\roaming\\python\\python313\\site-packages (from matplotlib) (2.9.0.post0)\n",
      "Requirement already satisfied: six>=1.5 in c:\\users\\khush\\appdata\\roaming\\python\\python313\\site-packages (from python-dateutil>=2.7->matplotlib) (1.17.0)\n",
      "Requirement already satisfied: numpy in c:\\users\\khush\\anaconda3\\lib\\site-packages (2.1.3)\n"
     ]
    }
   ],
   "source": [
    "!pip install pandas\n",
    "!pip install matplotlib\n",
    "!pip install numpy "
   ]
  },
  {
   "cell_type": "code",
   "execution_count": 2,
   "id": "8d96bcf1",
   "metadata": {},
   "outputs": [],
   "source": [
    "import pandas as pd\n",
    "from matplotlib import colormaps\n",
    "import matplotlib.pyplot as plt\n",
    "import numpy as np"
   ]
  },
  {
   "cell_type": "code",
   "execution_count": 3,
   "id": "4f8417cd",
   "metadata": {},
   "outputs": [],
   "source": [
    "df = pd.read_csv(\"building_inventory.csv\", na_values={'Square Footage': 0, \n",
    "                                                    'Year Constructed':0,\n",
    "                                                    'Year Acquired':0}) "
   ]
  },
  {
   "cell_type": "code",
   "execution_count": 4,
   "id": "76d8adb1",
   "metadata": {},
   "outputs": [
    {
     "data": {
      "text/html": [
       "<div>\n",
       "<style scoped>\n",
       "    .dataframe tbody tr th:only-of-type {\n",
       "        vertical-align: middle;\n",
       "    }\n",
       "\n",
       "    .dataframe tbody tr th {\n",
       "        vertical-align: top;\n",
       "    }\n",
       "\n",
       "    .dataframe thead th {\n",
       "        text-align: right;\n",
       "    }\n",
       "</style>\n",
       "<table border=\"1\" class=\"dataframe\">\n",
       "  <thead>\n",
       "    <tr style=\"text-align: right;\">\n",
       "      <th></th>\n",
       "      <th>Agency Name</th>\n",
       "      <th>Location Name</th>\n",
       "      <th>Address</th>\n",
       "      <th>City</th>\n",
       "      <th>Zip code</th>\n",
       "      <th>County</th>\n",
       "      <th>Congress Dist</th>\n",
       "      <th>Congressional Full Name</th>\n",
       "      <th>Rep Dist</th>\n",
       "      <th>Rep Full Name</th>\n",
       "      <th>...</th>\n",
       "      <th>Bldg Status</th>\n",
       "      <th>Year Acquired</th>\n",
       "      <th>Year Constructed</th>\n",
       "      <th>Square Footage</th>\n",
       "      <th>Total Floors</th>\n",
       "      <th>Floors Above Grade</th>\n",
       "      <th>Floors Below Grade</th>\n",
       "      <th>Usage Description</th>\n",
       "      <th>Usage Description 2</th>\n",
       "      <th>Usage Description 3</th>\n",
       "    </tr>\n",
       "  </thead>\n",
       "  <tbody>\n",
       "    <tr>\n",
       "      <th>0</th>\n",
       "      <td>Department of Natural Resources</td>\n",
       "      <td>Anderson Lake Conservation Area - Fulton County</td>\n",
       "      <td>Anderson Lake C.a.</td>\n",
       "      <td>Astoria</td>\n",
       "      <td>61501</td>\n",
       "      <td>Fulton</td>\n",
       "      <td>17</td>\n",
       "      <td>Cheri Bustos</td>\n",
       "      <td>93</td>\n",
       "      <td>Hammond Norine K.</td>\n",
       "      <td>...</td>\n",
       "      <td>In Use</td>\n",
       "      <td>1975.0</td>\n",
       "      <td>1975.0</td>\n",
       "      <td>144.0</td>\n",
       "      <td>1</td>\n",
       "      <td>1</td>\n",
       "      <td>0</td>\n",
       "      <td>Unusual</td>\n",
       "      <td>Unusual</td>\n",
       "      <td>Not provided</td>\n",
       "    </tr>\n",
       "    <tr>\n",
       "      <th>1</th>\n",
       "      <td>Department of Natural Resources</td>\n",
       "      <td>Anderson Lake Conservation Area - Fulton County</td>\n",
       "      <td>Anderson Lake C.a.</td>\n",
       "      <td>Astoria</td>\n",
       "      <td>61501</td>\n",
       "      <td>Fulton</td>\n",
       "      <td>17</td>\n",
       "      <td>Cheri Bustos</td>\n",
       "      <td>93</td>\n",
       "      <td>Hammond Norine K.</td>\n",
       "      <td>...</td>\n",
       "      <td>In Use</td>\n",
       "      <td>2004.0</td>\n",
       "      <td>2004.0</td>\n",
       "      <td>144.0</td>\n",
       "      <td>1</td>\n",
       "      <td>1</td>\n",
       "      <td>0</td>\n",
       "      <td>Unusual</td>\n",
       "      <td>Unusual</td>\n",
       "      <td>Not provided</td>\n",
       "    </tr>\n",
       "    <tr>\n",
       "      <th>2</th>\n",
       "      <td>Department of Natural Resources</td>\n",
       "      <td>Anderson Lake Conservation Area - Fulton County</td>\n",
       "      <td>Anderson Lake C.a.</td>\n",
       "      <td>Astoria</td>\n",
       "      <td>61501</td>\n",
       "      <td>Fulton</td>\n",
       "      <td>17</td>\n",
       "      <td>Cheri Bustos</td>\n",
       "      <td>93</td>\n",
       "      <td>Hammond Norine K.</td>\n",
       "      <td>...</td>\n",
       "      <td>In Use</td>\n",
       "      <td>2004.0</td>\n",
       "      <td>2004.0</td>\n",
       "      <td>144.0</td>\n",
       "      <td>1</td>\n",
       "      <td>1</td>\n",
       "      <td>0</td>\n",
       "      <td>Unusual</td>\n",
       "      <td>Unusual</td>\n",
       "      <td>Not provided</td>\n",
       "    </tr>\n",
       "    <tr>\n",
       "      <th>3</th>\n",
       "      <td>Department of Natural Resources</td>\n",
       "      <td>Anderson Lake Conservation Area - Fulton County</td>\n",
       "      <td>Anderson Lake C.a.</td>\n",
       "      <td>Astoria</td>\n",
       "      <td>61501</td>\n",
       "      <td>Fulton</td>\n",
       "      <td>17</td>\n",
       "      <td>Cheri Bustos</td>\n",
       "      <td>93</td>\n",
       "      <td>Hammond Norine K.</td>\n",
       "      <td>...</td>\n",
       "      <td>In Use</td>\n",
       "      <td>2004.0</td>\n",
       "      <td>2004.0</td>\n",
       "      <td>144.0</td>\n",
       "      <td>1</td>\n",
       "      <td>1</td>\n",
       "      <td>0</td>\n",
       "      <td>Unusual</td>\n",
       "      <td>Unusual</td>\n",
       "      <td>Not provided</td>\n",
       "    </tr>\n",
       "    <tr>\n",
       "      <th>4</th>\n",
       "      <td>Department of Natural Resources</td>\n",
       "      <td>Anderson Lake Conservation Area - Fulton County</td>\n",
       "      <td>Anderson Lake C.a.</td>\n",
       "      <td>Astoria</td>\n",
       "      <td>61501</td>\n",
       "      <td>Fulton</td>\n",
       "      <td>17</td>\n",
       "      <td>Cheri Bustos</td>\n",
       "      <td>93</td>\n",
       "      <td>Hammond Norine K.</td>\n",
       "      <td>...</td>\n",
       "      <td>In Use</td>\n",
       "      <td>2004.0</td>\n",
       "      <td>2004.0</td>\n",
       "      <td>144.0</td>\n",
       "      <td>1</td>\n",
       "      <td>1</td>\n",
       "      <td>0</td>\n",
       "      <td>Unusual</td>\n",
       "      <td>Unusual</td>\n",
       "      <td>Not provided</td>\n",
       "    </tr>\n",
       "  </tbody>\n",
       "</table>\n",
       "<p>5 rows × 22 columns</p>\n",
       "</div>"
      ],
      "text/plain": [
       "                       Agency Name  \\\n",
       "0  Department of Natural Resources   \n",
       "1  Department of Natural Resources   \n",
       "2  Department of Natural Resources   \n",
       "3  Department of Natural Resources   \n",
       "4  Department of Natural Resources   \n",
       "\n",
       "                                     Location Name             Address  \\\n",
       "0  Anderson Lake Conservation Area - Fulton County  Anderson Lake C.a.   \n",
       "1  Anderson Lake Conservation Area - Fulton County  Anderson Lake C.a.   \n",
       "2  Anderson Lake Conservation Area - Fulton County  Anderson Lake C.a.   \n",
       "3  Anderson Lake Conservation Area - Fulton County  Anderson Lake C.a.   \n",
       "4  Anderson Lake Conservation Area - Fulton County  Anderson Lake C.a.   \n",
       "\n",
       "      City  Zip code  County  Congress Dist Congressional Full Name  Rep Dist  \\\n",
       "0  Astoria     61501  Fulton             17            Cheri Bustos        93   \n",
       "1  Astoria     61501  Fulton             17            Cheri Bustos        93   \n",
       "2  Astoria     61501  Fulton             17            Cheri Bustos        93   \n",
       "3  Astoria     61501  Fulton             17            Cheri Bustos        93   \n",
       "4  Astoria     61501  Fulton             17            Cheri Bustos        93   \n",
       "\n",
       "       Rep Full Name  ...  Bldg Status Year Acquired Year Constructed  \\\n",
       "0  Hammond Norine K.  ...       In Use        1975.0           1975.0   \n",
       "1  Hammond Norine K.  ...       In Use        2004.0           2004.0   \n",
       "2  Hammond Norine K.  ...       In Use        2004.0           2004.0   \n",
       "3  Hammond Norine K.  ...       In Use        2004.0           2004.0   \n",
       "4  Hammond Norine K.  ...       In Use        2004.0           2004.0   \n",
       "\n",
       "   Square Footage  Total Floors  Floors Above Grade  Floors Below Grade  \\\n",
       "0           144.0             1                   1                   0   \n",
       "1           144.0             1                   1                   0   \n",
       "2           144.0             1                   1                   0   \n",
       "3           144.0             1                   1                   0   \n",
       "4           144.0             1                   1                   0   \n",
       "\n",
       "   Usage Description  Usage Description 2 Usage Description 3  \n",
       "0            Unusual              Unusual        Not provided  \n",
       "1            Unusual              Unusual        Not provided  \n",
       "2            Unusual              Unusual        Not provided  \n",
       "3            Unusual              Unusual        Not provided  \n",
       "4            Unusual              Unusual        Not provided  \n",
       "\n",
       "[5 rows x 22 columns]"
      ]
     },
     "execution_count": 4,
     "metadata": {},
     "output_type": "execute_result"
    }
   ],
   "source": [
    "df.head()"
   ]
  },
  {
   "cell_type": "code",
   "execution_count": 5,
   "id": "7f103564",
   "metadata": {},
   "outputs": [
    {
     "data": {
      "text/plain": [
       "Index(['Agency Name', 'Location Name', 'Address', 'City', 'Zip code', 'County',\n",
       "       'Congress Dist', 'Congressional Full Name', 'Rep Dist', 'Rep Full Name',\n",
       "       'Senate Dist', 'Senator Full Name', 'Bldg Status', 'Year Acquired',\n",
       "       'Year Constructed', 'Square Footage', 'Total Floors',\n",
       "       'Floors Above Grade', 'Floors Below Grade', 'Usage Description',\n",
       "       'Usage Description 2', 'Usage Description 3'],\n",
       "      dtype='object')"
      ]
     },
     "execution_count": 5,
     "metadata": {},
     "output_type": "execute_result"
    }
   ],
   "source": [
    "df.columns"
   ]
  },
  {
   "cell_type": "markdown",
   "id": "0d181e41",
   "metadata": {},
   "source": [
    "### scatter plot"
   ]
  },
  {
   "cell_type": "code",
   "execution_count": 6,
   "id": "1e209d45",
   "metadata": {},
   "outputs": [
    {
     "data": {
      "image/png": "[encoded data removed]",
      "text/plain": [
       "<Figure size 640x480 with 1 Axes>"
      ]
     },
     "metadata": {},
     "output_type": "display_data"
    }
   ],
   "source": [
    "plt.scatter(x = df[\"Year Constructed\"], y = df[\"Square Footage\"])\n",
    "plt.xlabel(\"Year Constructed\")\n",
    "plt.ylabel(\"Square Footage\")\n",
    "plt.yscale('log')\n",
    "plt.show()"
   ]
  }
 ],
 "metadata": {
  "kernelspec": {
   "display_name": "base",
   "language": "python",
   "name": "python3"
  },
  "language_info": {
   "codemirror_mode": {
    "name": "ipython",
    "version": 3
   },
   "file_extension": ".py",
   "mimetype": "text/x-python",
   "name": "python",
   "nbconvert_exporter": "python",
   "pygments_lexer": "ipython3",
   "version": "3.13.5"
  }
 },
 "nbformat": 4,
 "nbformat_minor": 5
}
